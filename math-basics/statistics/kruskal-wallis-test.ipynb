{
 "cells": [
  {
   "cell_type": "markdown",
   "metadata": {
    "pycharm": {
     "name": "#%% md\n"
    }
   },
   "source": [
    "# Kruskal-Wallis test\n",
    "\n",
    "当有一个nomimal variable和一个ranked variable时，使用Kruskal-Wallis test可以检验所有各组的mean ranks是否相同。\n",
    "\n",
    "## 基本概念补充\n",
    "\n",
    "什么是nomimal variable，什么是ranked variable?\n",
    "\n",
    "### nominal/ordinal/interval/ratio/cardinal\n",
    "\n",
    "统计学中有一些关于变量的基本概念：\n",
    "\n",
    "1.Nominal\n",
    "\n",
    "在这里意思等价于category，即分类的意思。nomimal variable就是类别变量的意思。\n",
    "\n",
    "类别变量是无序的。比如性别、发色等等。\n",
    "\n",
    "2.Ordinal\n",
    "\n",
    "ordinal变量和类别变量相似，区别在于其实有顺序的。比如人的身高，可以有low/medium/high。\n",
    "\n",
    "不过值之间的距离和变量的划分距离可能不是相同的。比如对教育经历划分了小学、初中、高中、大学四类，分配了1-2-3-4四个数作为类别。\n",
    "但是1和2之间，和3和4之间的差距是不同的。\n",
    "\n",
    "如果差距是等距的，那么就是interval变量了。\n",
    "\n",
    "3.Interval\n",
    "\n",
    "interval变量和ordinal变量是类似的，不过其是等间距的。比如薪水等级，0-5000一级，5000-10000第二级。\n",
    "\n",
    "4.Ratio\n",
    "\n",
    "Ratio变量和Interval变量是类似的，只不过这类变量里0值是没有意义的。比如体重、身高。\n",
    "\n",
    "5.Cardinal Numbers\n",
    "\n",
    "cardinal number就是counting number，即用来计数的。计数变量是用来回答“how many”问题的。\n",
    "比如每户家庭有多少人。\n",
    "\n",
    "除了上述变量外，ranked variable是指对变量值排序后，变量对应序号，在秩次相关分析中常用。\n",
    "\n",
    "那么为什么要分这么多类呢？\n",
    "\n",
    "在统计计算和分析中是假设变量有特定的测量级别的。比如如果要计算一个变量的平均值，那如果变量是用类别变量分析的，那么均值是没有意义的。\n",
    "\n",
    "当有一个类别变量和一个可测量的变量时，这时候常用的分析是one-way anova（方差分析）\n",
    "\n",
    "### one-way anova\n",
    "\n",
    "当有有一个类别变量和一个可测量的变量，可测量变量的各个值被划分到类别变量代表的各组中。\n",
    "这时候one-way anova可以用来检验不同组的可测量变量的均值是否相同。\n",
    "\n",
    "one-way anova的意思是单因素方差分析。但是要求变量必须是正态分布的。但是one-way anova对正态性的要求并不敏感，所以很多时候还是可以先使用该方法的。\n",
    "另一方面，它还需要数据不是异方差特性的。\n",
    "\n",
    "## 何时使用Kruskal-Wallis test\n",
    "\n",
    "当变量不是正态分布时，就要使用Kruskal-Wallis test了。但是如果数据是异方差的，使用该法并不好。\n",
    "Kruskal-Wallis test是非参数检验，因此需要将测量的变量先转换为秩次变量。\n",
    "\n",
    "## 如何进行检验\n",
    "\n",
    "举例说明：如下图所示。gene被分为两类，其对应可测量值是 $F_{ST}$ ， 对各类进行秩次转换。\n",
    "\n",
    "![Kruskal–Wallis test](KWtest.png)\n",
    "\n",
    "Kruskal–Wallis test的零假设是各组平均rank是相同的。\n",
    "\n",
    "然后计算每组的ranks的和，接下来就可以计算统计检验值H。\n"
   ]
  },
  {
   "cell_type": "code",
   "execution_count": 1,
   "metadata": {
    "collapsed": false,
    "jupyter": {
     "outputs_hidden": false
    },
    "pycharm": {
     "is_executing": false,
     "name": "#%%\n"
    }
   },
   "outputs": [
    {
     "data": {
      "text/plain": [
       "KruskalResult(statistic=0.04258103843947673, pvalue=0.8365161694979135)"
      ]
     },
     "execution_count": 1,
     "metadata": {},
     "output_type": "execute_result"
    }
   ],
   "source": [
    "from scipy import stats\n",
    "DNA = [1, 2.5, 5, 15, 18, 19]\n",
    "protein = [2.5, 4, 6, 7, 8, 9.5, 9.5, 11, 12, 13, 14, 16, 17, 20]\n",
    "stats.kruskal(DNA, protein)"
   ]
  },
  {
   "cell_type": "markdown",
   "metadata": {},
   "source": [
    "\n",
    "H的计算过程是相当复杂的，就省了。H代表的是**不同组之间秩次的方差**。\n",
    "H大致是chi-squared分布的，这就意味着可以根据卡方分布得到H值对应的概率，这样就能判断是否要推翻零假设。\n",
    "计算时，自由度为组别数目-1。本例中计算得到的 the mean rank for DNA is 10.08 and the mean rank for protein is 10.68,\n",
    "H=0.043, there is 1 degree of freedom, and the P value is 0.84. 概率显著大于0.05，零假设不会被拒绝。\n",
    "\n"
   ]
  }
 ],
 "metadata": {
  "kernelspec": {
   "display_name": "Python 3",
   "language": "python",
   "name": "python3"
  },
  "language_info": {
   "codemirror_mode": {
    "name": "ipython",
    "version": 3
   },
   "file_extension": ".py",
   "mimetype": "text/x-python",
   "name": "python",
   "nbconvert_exporter": "python",
   "pygments_lexer": "ipython3",
   "version": "3.7.9"
  },
  "pycharm": {
   "stem_cell": {
    "cell_type": "raw",
    "metadata": {
     "collapsed": false
    },
    "source": []
   }
  }
 },
 "nbformat": 4,
 "nbformat_minor": 4
}
