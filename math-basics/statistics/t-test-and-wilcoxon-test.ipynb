{
 "cells": [
  {
   "cell_type": "markdown",
   "metadata": {},
   "source": [
    "# t-test and Wilcoxon signed-rank test\n",
    "\n",
    "了解下威尔科克森符号秩检验。\n",
    "\n",
    "在Wilcoxon符号秩检验中，它把观测值和零假设的中心位置之差的绝对值的秩分别按照不同的符号相加作为其检验统计量。它适用于T检验中的成对比较，但并不要求成对数据之差di服从正态分布，只要求对称分布即可。检验成对观测数据之差是否来自均值为0的总体（产生数据的总体是否具有相同的均值）。\n",
    "\n",
    "威尔科克森符号秩检验，可看作是就成对观察值而进行的参数方式的T检验的代用品。\n",
    "\n",
    "所以稍微补充下T检验的基本概念，主要参考了[一文详解t检验](https://zhuanlan.zhihu.com/p/138711532)以及[学生t检验](https://zh.wikipedia.org/wiki/%E5%8F%B8%E5%BE%92%E9%A0%93t%E6%AA%A2%E5%AE%9A)\n",
    "\n",
    "## t检验\n",
    "\n",
    "t检验（t test）又称学生t检验（Student t-test）可以说是统计推断中非常常见的一种检验方法，用于统计量服从正态分布，但方差未知的情况。学生t检验常作为检验一群来自正态分配总体的独立样本之期望值是否为某一实数，或是二（两）群来自正态分配总体的独立样本之期望值的差是否为某一实数。举个简单的例子，也就是说我们可以在抓取一个班级的男生，去比较该班与全校男生之身高差异程度是不是推测的那样，或是不同年级班上的男生身高的差异的场合是否一如预期使用此检验法。\n",
    "\n",
    "学生t检验是威廉·戈塞为了观测酿酒品质于1908年所提出的，“学生 (student)”则是他的笔名。基于克劳德·健力士（Claude Guinness）聘用从牛津大学和剑桥大学出来的最好的毕业生，[2]以将生物化学及统计学应用到健力士工业流程的创新政策，戈斯特受雇于都柏林的健力士酿酒厂担任统计学家。戈斯特提出了t检验以降低啤酒重量监控的成本。戈斯特于1908年在《Biometrika》期刊上公布t检验，但因其老板认为其为商业机密而被迫使用笔名，统计学论文内容也跟酿酒无关。实际上，其他统计学家是知道高赛特真实身份的。\n",
    "\n",
    "今日，它更常被应用于小样本判断的置信度。\n",
    "\n",
    "t检验的前提是要求样本服从正态分布或近似正态分布，不然可以利用一些变换（取对数、开根号、倒数等等）试图将其转化为服从正态分布是数据，如若还是不满足正态分布，只能利用非参数检验方法。不过当样本量大于30的时候，可以认为数据近似正态分布。\n",
    "\n",
    "t检验最常见的四个用途：\n",
    "\n",
    "- 单样本均值检验（One-sample t-test）:用于检验 总体方差未知、正态数据或近似正态的 单样本的均值 是否与 已知的总体均值相等；例如检验一群军校男生的身高的平均是否符合全国标准的170公分界线。\n",
    "- 两独立样本均值检验（Independent two-sample t-test）:用于检验 两对独立的 正态数据或近似正态的 样本的均值 是否相等，这里可根据总体方差是否相等分类讨论；例如检验二群人之平均身高是否相等。若两总体的方差是相等的情况下（同质方差），自由度为两样本数相加再减二；若为异方差（总体方差不相等），自由度则为Welch自由度，此情况下有时被称为Welch检验。\n",
    "- 配对样本均值检验（Dependent t-test for paired samples）:用于检验 一对配对样本的均值的差 是否等于某一个值；例如，检测一位病人接受治疗前和治疗后的肿瘤尺寸大小。若治疗是有效的，我们可以推定多数病人接受治疗后，肿瘤尺寸将缩小。\n",
    "- 回归系数的显著性检验（t-test for regression coefficient significance）:用于检验 回归模型的解释变量对被解释变量是否有显著影响；检验一回归模型的偏回归系数是否显著不为零，即检验解释变量X是否存在对被解释变量Y的解释能力，其检验统计量称之为t-比例（t-ratio）。\n",
    "\n",
    "这里暂时仅举一例，检验单样本的均值是否和已知总体的均值相等。\n",
    "\n",
    "要求：\n",
    "\n",
    "- 总体方差未知\n",
    "- 正态数据或近似正态\n",
    "\n",
    "应用场景举例：\n",
    "\n",
    "1. 从某厂生产的零件中随机抽取若干件，检验其某种规格的均值是否与要求的规格相等（双侧检验）\n",
    "2. 在某偏远地区随机抽取若干健康男子，检验其脉搏均数是否高于全体健康男子平均水平（单侧检验）\n",
    "3. 检验某一线城市全体高三学生视力水平是否比全国全体高三学生视力水平低（单侧检验）\n",
    "\n",
    "检验原理：\n",
    "\n",
    "- $H_0$：样本均值与总体均值相等\n",
    "- $H_1$：样本均值与总体均值不等\n",
    "\n",
    "记总体均值为$\\mu$，总体方差为$\\sigma ^2$（未知），样本均值$\\bar X = \\sum _{i=1}^n X_i$，样本标准差$s=\\sqrt{\\frac{1}{n-1}\\sum _{i=1}^n (X_i-\\bar X)^2}$，有：\n",
    "$$X_i \\sim N(\\mu,\\sigma ^2)-> \\bar X =\\frac 1 n \\sum _{i=1}^n X_i \\sim N(\\mu , \\frac{\\sigma ^2}{n}) -> \\frac{\\bar X - \\mu}{\\frac{\\sigma}{\\sqrt{n}}}=\\frac{\\sqrt{n}(\\bar X - \\mu)}{\\sigma} \\sim N(0,1) \\ \\ \\ \\ \\ \\  (1)$$\n",
    "\n",
    "下面试着构造出一个t统计量，我们知道t变量的构造定义是一个 分子为标准正态变量、分母为卡方变量除以它自由度后开根号 的分式。上面我们已经得到了一个标准正态变量，不难想到卡方变量的一个重要定理：\n",
    "$$\\frac{(n-1)s^2}{\\sigma ^2} \\sim \\chi ^2(n-1) \\ \\ \\ \\ \\ \\ \\ (2)$$\n",
    "\n",
    "那么，有：\n",
    "$$(1)/\\sqrt{(2)/(n-1)}=\\frac{\\sqrt{n}(\\bar X - \\mu)}{s} \\sim t(n-1) \\ \\ \\ \\ \\ \\ (3)$$\n",
    "\n",
    "检验原理就是在在$H_0$成立的条件下，$\\bar X - \\mu =0$，若上述统计量的值偏离0“太多”，是小概率事件，在一次抽样中几乎不可能发生，其发生的概率即为p值。给定显著性水平$\\alpha$（如0.05），根据研究的问题确定是双侧检验（two-side test）还是单侧检验（one-side test），若为双侧检验，则查t界值表中自由度为n-1，双侧$\\alpha$，得到临界值$t_{\\frac{\\alpha}{2},n-1}$；若为单侧检验，则查t界值表中自由度为n-1，双侧$\\alpha$，得到临界值$t_{{\\alpha},n-1}$。\n",
    "\n",
    "1. 对于要检验样本均值是否等于总体均值的双侧检验，若根据样本数据算出来的t统计量的绝对值$|\\frac{\\sqrt{n}(\\bar X - \\mu)}{s}|>t_{\\frac{\\alpha}{2},n-1}$，则拒绝原假设，认为样本均值与总体均值不等，否则不拒绝原假设。\n",
    "2. 对于要检验样本均值是否比总体均值大的单侧检验，若根据样本数据算出来的t统计量$|\\frac{\\sqrt{n}(\\bar X - \\mu)}{s}|<t_{\\alpha,n-1}$，则拒绝原假设，认为样本均值不大于总体均值，否则不拒绝原假设。\n",
    "3. 对于要检验样本均值是否比总体均值小的单侧检验，若根据样本数据算出来的t统计量$|\\frac{\\sqrt{n}(\\bar X - \\mu)}{s}|>t_{\\alpha,n-1}$，则拒绝原假设，认为样本均值不小于总体均值，否则不拒绝原假设。\n",
    "\n",
    "剩余的几项典型应用方式思路一致，即将关心的变量的t分布表现出来，然后假设检验。\n",
    "\n",
    "下面举个简单的例子。主要来自：[使用Python scipy做统计检验--Student t-test](https://zhuanlan.zhihu.com/p/32684622)\n",
    "\n",
    "在10块地上同时种植甲乙两种作物，其产量服从正态分布，并且方差相同。结果计算得\n",
    "$\\bar x = 30.97, \\bar y = 21.79, S_x = 26.7, S_y = 12.1$ 。试问这两种作物的产量有无明显差异？\n",
    "\n",
    "这是一个典型的双样本，正态同方差的假设检验，判断两个正态分布的期望是否相同。$H_0 : \\mu _1=\\mu _2, H_1 : \\mu _1 \\neq \\mu _2$"
   ]
  },
  {
   "cell_type": "code",
   "execution_count": 1,
   "metadata": {},
   "outputs": [
    {
     "name": "stdout",
     "output_type": "stream",
     "text": [
      "t statistic is:  0.9394886573346275\n",
      "pvalue is:  0.35991721678518696\n"
     ]
    }
   ],
   "source": [
    "# two sample student t test\n",
    "\n",
    "import numpy as np\n",
    "from scipy import stats\n",
    "\n",
    "mean1 = 30.97\n",
    "mean2 = 21.79\n",
    "\n",
    "std1 = 26.7\n",
    "std2 = 12.1\n",
    "\n",
    "nobs1 = 10\n",
    "nobs2 = 10\n",
    "\n",
    "modified_std1 = np.sqrt(np.float32(nobs1)/np.float32(nobs1-1)) * std1\n",
    "modified_std2 = np.sqrt(np.float32(nobs2)/np.float32(nobs2-1)) * std2\n",
    "\n",
    "(statistic, pvalue) = stats.ttest_ind_from_stats(mean1=mean1, std1=modified_std1, nobs1=10, mean2=mean2, std2=modified_std2, nobs2=10)\n",
    "\n",
    "print (\"t statistic is: \", statistic)\n",
    "print (\"pvalue is: \", pvalue)\n"
   ]
  },
  {
   "cell_type": "markdown",
   "metadata": {},
   "source": [
    "假设我们显著性水平$\\alpha=0.05$，pvalue显著的大于0.05，所以我们不能拒绝原假设，也就是认为两种作物的产量没有显著差异。"
   ]
  },
  {
   "cell_type": "markdown",
   "metadata": {},
   "source": [
    "## Wilcoxon signed-rank test\n",
    "\n",
    "威尔科克森符号秩检验，可看作是就成对观察值而进行的参数方式的T检验的代用品，非参数检验具有无需对总体分布作假定的优点，且就成对观察值作的参数方式的T检验，必须假定有关的差别总体服从正态分布，威尔科克森符号秩检验则不需要。总之，A Wilcoxon signed-rank test is a nonparametric test that can be used to determine whether two dependent samples were selected from populations having the same distribution.\n",
    "\n",
    "举个例子，分别用高锰酸钾法和EDTA法对某生长期蛋鸡配合料钙含量进行的7次测定结果(湖北省饲料质量监督检验站2002年常规检测样品)，比较两种方法测定结果差异是否显著。\n",
    "\n",
    "![](QQ截图20210310143345.png)\n",
    "\n",
    "首先按大小顺序对两对观测值之差di进行等级排序（排位是1到7，同等级的就取了均值，比如4和5排名1和2，那么两个就是1+2/2 = 1.5），并加上正负号，分别计算正负等级之和：T+=21，T-=-7。\n",
    "\n",
    "假设两种方法检测饲料中钙含量结果无显著差异，即检验：\n",
    "\n",
    "- H0：两种方法检测结果无显著差异；\n",
    "- H1：两种方法检测结果有差异。\n",
    "\n",
    "查如下附表得到，对于α=0.05的单侧检验，n=7 时，T0.025=4。由于 T+=21> T0.025 ，则接受H0，可以认为两种方法测定饲料钙含量结果并无显著差异。\n",
    "\n",
    "![](QQ截图20210310143837.png)\n",
    "\n",
    "下面看一个python 实例。主要参考了：[scipy.stats.wilcoxon](https://docs.scipy.org/doc/scipy/reference/generated/scipy.stats.wilcoxon.html)\n",
    "\n",
    "The differences in height between cross- and self-fertilized corn plants ："
   ]
  },
  {
   "cell_type": "code",
   "execution_count": 2,
   "metadata": {},
   "outputs": [],
   "source": [
    "d = [6, 8, 14, 16, 23, 24, 28, 29, 41, -48, 49, 56, 60, -67, 75]"
   ]
  },
  {
   "cell_type": "markdown",
   "metadata": {},
   "source": [
    "Cross-fertilized plants appear to be be higher. To test the null hypothesis that there is no height difference, we can apply the two-sided test:"
   ]
  },
  {
   "cell_type": "code",
   "execution_count": 3,
   "metadata": {},
   "outputs": [
    {
     "data": {
      "text/plain": [
       "(24.0, 0.041259765625)"
      ]
     },
     "execution_count": 3,
     "metadata": {},
     "output_type": "execute_result"
    }
   ],
   "source": [
    "from scipy.stats import wilcoxon\n",
    "w, p = wilcoxon(d)\n",
    "w, p"
   ]
  },
  {
   "cell_type": "markdown",
   "metadata": {},
   "source": [
    "Hence, we would reject the null hypothesis at a confidence level of 5%, concluding that there is a difference in height between the groups."
   ]
  }
 ],
 "metadata": {
  "kernelspec": {
   "display_name": "Python 3",
   "language": "python",
   "name": "python3"
  },
  "language_info": {
   "codemirror_mode": {
    "name": "ipython",
    "version": 3
   },
   "file_extension": ".py",
   "mimetype": "text/x-python",
   "name": "python",
   "nbconvert_exporter": "python",
   "pygments_lexer": "ipython3",
   "version": "3.7.9"
  }
 },
 "nbformat": 4,
 "nbformat_minor": 4
}
