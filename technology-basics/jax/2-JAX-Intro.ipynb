{
 "cells": [
  {
   "cell_type": "markdown",
   "id": "0a7237d2",
   "metadata": {},
   "source": [
    "# Introduction to JAX\n",
    "\n",
    "本文目的主要是简单了解JAX的基本情况。\n",
    "\n",
    "JAX是一种用于**表达**和**组成** 数值程序的**转换** 的语言。JAX还能够编译用于CPU或加速器（GPU / TPU）的数值程序。JAX对于许多数值和科学程序都非常有用，但前提是它们是**在某些约束条件下编写**的。"
   ]
  },
  {
   "cell_type": "code",
   "execution_count": 1,
   "id": "b15d4cb3",
   "metadata": {},
   "outputs": [],
   "source": [
    "import numpy as np\n",
    "from jax import grad, jit\n",
    "from jax import lax\n",
    "from jax import random\n",
    "import jax\n",
    "import jax.numpy as jnp\n",
    "import matplotlib as mpl\n",
    "from matplotlib import pyplot as plt\n",
    "from matplotlib import rcParams\n",
    "rcParams['image.interpolation'] = 'nearest'\n",
    "rcParams['image.cmap'] = 'viridis'\n",
    "rcParams['axes.grid'] = False"
   ]
  },
  {
   "cell_type": "markdown",
   "id": "70b847bd",
   "metadata": {},
   "source": [
    "### Pure functions\n",
    "\n",
    "JAX转换和编译仅适用于**功能纯净的Python函数**：所有输入数据均通过函数参数传递，所有结果均通过函数结果输出。如果使用相同的输入调用纯函数，则始终会返回相同的结果。\n",
    "\n",
    "以下是一些功能上并非纯函数的示例，对于这些函数，JAX的行为不同于Python解释器。注意，JAX系统不能保证这些行为。使用JAX的正确方法是仅在功能上纯的Python函数上使用它。\n",
    "\n",
    "关于 side-effect of a function in Python，可以参考：[What is a side-effect of a function in Python?](https://dev.to/dev0928/what-is-a-side-effect-of-a-function-in-python-36ei#:~:text=A%20function%20is%20said%20to,gets%20updated%20within%20the%20function.)"
   ]
  },
  {
   "cell_type": "code",
   "execution_count": 2,
   "id": "ee1be0a3",
   "metadata": {},
   "outputs": [
    {
     "name": "stderr",
     "output_type": "stream",
     "text": [
      "WARNING:absl:No GPU/TPU found, falling back to CPU. (Set TF_CPP_MIN_LOG_LEVEL=0 and rerun for more info.)\n"
     ]
    },
    {
     "name": "stdout",
     "output_type": "stream",
     "text": [
      "Executing function\n",
      "First call:  4.0\n",
      "Second call:  5.0\n",
      "Executing function\n",
      "Third call, different type:  [5.]\n"
     ]
    }
   ],
   "source": [
    "def impure_print_side_effect(x):\n",
    "    print(\"Executing function\")  # This is a side-effect \n",
    "    return x\n",
    "\n",
    "# The side-effects appear during the first run  \n",
    "print (\"First call: \", jit(impure_print_side_effect)(4.))\n",
    "\n",
    "# Subsequent runs with parameters of same type and shape may not show the side-effect\n",
    "# This is because JAX now invokes a cached compilation of the function\n",
    "print (\"Second call: \", jit(impure_print_side_effect)(5.))\n",
    "\n",
    "# JAX re-runs the Python function when the type or shape of the argument changes\n",
    "print (\"Third call, different type: \", jit(impure_print_side_effect)(jnp.array([5.])))"
   ]
  },
  {
   "cell_type": "code",
   "execution_count": 3,
   "id": "545ef9e7",
   "metadata": {},
   "outputs": [
    {
     "name": "stdout",
     "output_type": "stream",
     "text": [
      "First call:  4.0\n",
      "Second call:  5.0\n",
      "Third call, different type:  [14.]\n"
     ]
    }
   ],
   "source": [
    "g = 0.\n",
    "def impure_uses_globals(x):\n",
    "    return x + g\n",
    "\n",
    "# JAX captures the value of the global during the first run\n",
    "print (\"First call: \", jit(impure_uses_globals)(4.))\n",
    "g = 10.  # Update the global\n",
    "\n",
    "# Subsequent runs may silently use the cached value of the globals\n",
    "print (\"Second call: \", jit(impure_uses_globals)(5.))\n",
    "\n",
    "# JAX re-runs the Python function when the type or shape of the argument changes\n",
    "# This will end up reading the latest value of the global\n",
    "print (\"Third call, different type: \", jit(impure_uses_globals)(jnp.array([4.])))"
   ]
  },
  {
   "cell_type": "code",
   "execution_count": 4,
   "id": "3a5d1b26",
   "metadata": {},
   "outputs": [
    {
     "name": "stdout",
     "output_type": "stream",
     "text": [
      "First call:  4.0\n",
      "Saved global:  Traced<ShapedArray(float32[], weak_type=True)>with<DynamicJaxprTrace(level=0/1)>\n"
     ]
    }
   ],
   "source": [
    "g = 0.\n",
    "def impure_saves_global(x):\n",
    "    global g\n",
    "    g = x\n",
    "    return x\n",
    "\n",
    "# JAX runs once the transformed function with special Traced values for arguments\n",
    "print (\"First call: \", jit(impure_saves_global)(4.))\n",
    "print (\"Saved global: \", g)  # Saved global has an internal JAX value"
   ]
  },
  {
   "cell_type": "markdown",
   "id": "71bd9720",
   "metadata": {},
   "source": [
    "即使Python函数实际上在内部使用有状态对象，只要它不读取或写入外部状态，它在功能上也可以是纯函数："
   ]
  },
  {
   "cell_type": "code",
   "execution_count": 5,
   "id": "0f968322",
   "metadata": {},
   "outputs": [
    {
     "name": "stdout",
     "output_type": "stream",
     "text": [
      "50.0\n"
     ]
    }
   ],
   "source": [
    "def pure_uses_internal_state(x):\n",
    "    state = dict(even=0, odd=0)\n",
    "    for i in range(10):\n",
    "        state['even' if i % 2 == 0 else 'odd'] += x\n",
    "    return state['even'] + state['odd']\n",
    "\n",
    "print(jit(pure_uses_internal_state)(5.))"
   ]
  },
  {
   "cell_type": "markdown",
   "id": "bafe1a67",
   "metadata": {},
   "source": [
    "不建议在要使用的任何JAX函数jit或任何控制流原语中使用迭代器。原因是迭代器是一个python对象，它引入状态以检索下一个元素。因此，它与JAX功能编程模型不兼容。在下面的代码中，有一些错误尝试将迭代器与JAX一起使用的示例。它们中的大多数返回错误，但有些会产生意外的结果。\n",
    "\n",
    "```Python\n",
    "import jax.numpy as jnp\n",
    "import jax.lax as lax\n",
    "from jax import make_jaxpr\n",
    "\n",
    "# lax.fori_loop\n",
    "array = jnp.arange(10)\n",
    "print(lax.fori_loop(0, 10, lambda i,x: x+array[i], 0)) # expected result 45\n",
    "iterator = iter(range(10))\n",
    "print(lax.fori_loop(0, 10, lambda i,x: x+next(iterator), 0)) # unexpected result 0\n",
    "\n",
    "# lax.scan\n",
    "def func11(arr, extra):\n",
    "    ones = jnp.ones(arr.shape)  \n",
    "    def body(carry, aelems):\n",
    "        ae1, ae2 = aelems\n",
    "        return (carry + ae1 * ae2 + extra, carry)\n",
    "    return lax.scan(body, 0., (arr, ones))    \n",
    "make_jaxpr(func11)(jnp.arange(16), 5.)\n",
    "# make_jaxpr(func11)(iter(range(16)), 5.) # throws error\n",
    "\n",
    "# lax.cond\n",
    "array_operand = jnp.array([0.])\n",
    "lax.cond(True, lambda x: x+1, lambda x: x-1, array_operand)\n",
    "iter_operand = iter(range(10))\n",
    "# lax.cond(True, lambda x: next(x)+1, lambda x: next(x)-1, iter_operand) # throws error\n",
    "```"
   ]
  },
  {
   "cell_type": "markdown",
   "id": "040cbd93",
   "metadata": {},
   "source": [
    "### In-Place Updates\n",
    "\n",
    "Numpy的原地更新算法不能使用。如果尝试就地更新JAX设备数组，则会收到错误消息！（☉_☉）"
   ]
  },
  {
   "cell_type": "code",
   "execution_count": 6,
   "id": "ee6267ca",
   "metadata": {},
   "outputs": [
    {
     "name": "stdout",
     "output_type": "stream",
     "text": [
      "original array:\n",
      "[[0. 0. 0.]\n",
      " [0. 0. 0.]\n",
      " [0. 0. 0.]]\n",
      "updated array:\n",
      "[[0. 0. 0.]\n",
      " [1. 1. 1.]\n",
      " [0. 0. 0.]]\n"
     ]
    }
   ],
   "source": [
    "numpy_array = np.zeros((3,3), dtype=np.float32)\n",
    "print(\"original array:\")\n",
    "print(numpy_array)\n",
    "\n",
    "# In place, mutating update\n",
    "numpy_array[1, :] = 1.0\n",
    "print(\"updated array:\")\n",
    "print(numpy_array)"
   ]
  },
  {
   "cell_type": "code",
   "execution_count": 7,
   "id": "63948301",
   "metadata": {},
   "outputs": [
    {
     "name": "stdout",
     "output_type": "stream",
     "text": [
      "Exception '<class 'jaxlib.xla_extension.DeviceArray'>' object does not support item assignment. JAX arrays are immutable; perhaps you want jax.ops.index_update or jax.ops.index_add instead?\n"
     ]
    }
   ],
   "source": [
    "jax_array = jnp.zeros((3,3), dtype=jnp.float32)\n",
    "\n",
    "# In place update of JAX's array will yield an error!\n",
    "try:\n",
    "    jax_array[1, :] = 1.0\n",
    "except Exception as e:\n",
    "    print(\"Exception {}\".format(e))"
   ]
  },
  {
   "cell_type": "markdown",
   "id": "9a008aa8",
   "metadata": {},
   "source": [
    "这是因为允许就地对变量进行突变会使得程序分析和转换非常困难。JAX需要数值程序的纯函数表达式。\n",
    "\n",
    "作为替代，JAX提供了其他更新类型的函数：index_update, index_add, index_min, index_max, 和 index."
   ]
  },
  {
   "cell_type": "code",
   "execution_count": 9,
   "id": "c3019bca",
   "metadata": {},
   "outputs": [],
   "source": [
    "from jax.ops import index, index_add, index_update"
   ]
  },
  {
   "cell_type": "markdown",
   "id": "6f8aca02",
   "metadata": {},
   "source": [
    "比如，index_update。如果输入值的index_update不重用，JIT -compiled代码将执行这些操作原地"
   ]
  },
  {
   "cell_type": "code",
   "execution_count": 10,
   "id": "ea8d5f37",
   "metadata": {},
   "outputs": [
    {
     "name": "stdout",
     "output_type": "stream",
     "text": [
      "original array:\n",
      "[[0. 0. 0.]\n",
      " [0. 0. 0.]\n",
      " [0. 0. 0.]]\n",
      "old array unchanged:\n",
      "[[0. 0. 0.]\n",
      " [0. 0. 0.]\n",
      " [0. 0. 0.]]\n",
      "new array:\n",
      "[[0. 0. 0.]\n",
      " [1. 1. 1.]\n",
      " [0. 0. 0.]]\n"
     ]
    }
   ],
   "source": [
    "jax_array = jnp.zeros((3, 3))\n",
    "print(\"original array:\")\n",
    "print(jax_array)\n",
    "\n",
    "new_jax_array = index_update(jax_array, index[1, :], 1.)\n",
    "\n",
    "print(\"old array unchanged:\")\n",
    "print(jax_array)\n",
    "\n",
    "print(\"new array:\")\n",
    "print(new_jax_array)"
   ]
  },
  {
   "cell_type": "markdown",
   "id": "1316175c",
   "metadata": {},
   "source": [
    "比如，index_add。如果输入值的index_update不重用，JIT -compiled代码将执行这些操作原地。"
   ]
  },
  {
   "cell_type": "code",
   "execution_count": 11,
   "id": "ca03ca30",
   "metadata": {},
   "outputs": [
    {
     "name": "stdout",
     "output_type": "stream",
     "text": [
      "original array:\n",
      "[[1. 1. 1. 1. 1. 1.]\n",
      " [1. 1. 1. 1. 1. 1.]\n",
      " [1. 1. 1. 1. 1. 1.]\n",
      " [1. 1. 1. 1. 1. 1.]\n",
      " [1. 1. 1. 1. 1. 1.]]\n",
      "new array post-addition:\n",
      "[[1. 1. 1. 8. 8. 8.]\n",
      " [1. 1. 1. 1. 1. 1.]\n",
      " [1. 1. 1. 8. 8. 8.]\n",
      " [1. 1. 1. 1. 1. 1.]\n",
      " [1. 1. 1. 8. 8. 8.]]\n"
     ]
    }
   ],
   "source": [
    "print(\"original array:\")\n",
    "jax_array = jnp.ones((5, 6))\n",
    "print(jax_array)\n",
    "\n",
    "new_jax_array = index_add(jax_array, index[::2, 3:], 7.)\n",
    "print(\"new array post-addition:\")\n",
    "print(new_jax_array)"
   ]
  },
  {
   "cell_type": "markdown",
   "id": "453ccdc1",
   "metadata": {},
   "source": [
    "### Out-of-Bounds Indexing\n",
    "\n",
    "在Numpy中，通常习惯于在数组的边界之外建立索引时抛出错误，如下所示："
   ]
  },
  {
   "cell_type": "code",
   "execution_count": 12,
   "id": "3323aa70",
   "metadata": {},
   "outputs": [
    {
     "name": "stdout",
     "output_type": "stream",
     "text": [
      "Exception index 11 is out of bounds for axis 0 with size 10\n"
     ]
    }
   ],
   "source": [
    "try:\n",
    "    np.arange(10)[11]\n",
    "except Exception as e:\n",
    "    print(\"Exception {}\".format(e))"
   ]
  },
  {
   "cell_type": "markdown",
   "id": "85223ab0",
   "metadata": {},
   "source": [
    "但是，在其他加速器上引发错误可能会更加困难。JAX就不会引发错误，而是将索引限制在数组的边界上，这意味着对于此示例，将返回数组的最后一个值。"
   ]
  },
  {
   "cell_type": "code",
   "execution_count": 13,
   "id": "0b05554d",
   "metadata": {},
   "outputs": [
    {
     "data": {
      "text/plain": [
       "DeviceArray(9, dtype=int32)"
      ]
     },
     "execution_count": 13,
     "metadata": {},
     "output_type": "execute_result"
    }
   ],
   "source": [
    "jnp.arange(10)[11]"
   ]
  },
  {
   "cell_type": "markdown",
   "id": "dd8b338f",
   "metadata": {},
   "source": [
    "请注意，由于这种行为，jnp.nanargmin和jnp.nanargmax对于由NaN组成的切片返回-1，而Numpy会抛出错误。"
   ]
  },
  {
   "cell_type": "markdown",
   "id": "2957cdfc",
   "metadata": {},
   "source": [
    "### Random Numbers\n",
    "\n",
    "numpy和其他库中的有状态伪随机数生成器（PRNG）在幕后隐藏了许多细节，提供现成的伪随机数源："
   ]
  },
  {
   "cell_type": "code",
   "execution_count": 14,
   "id": "ed31b591",
   "metadata": {},
   "outputs": [
    {
     "name": "stdout",
     "output_type": "stream",
     "text": [
      "0.4550165972844037\n",
      "0.8978739797759698\n",
      "0.335569831356492\n"
     ]
    }
   ],
   "source": [
    "print(np.random.random())\n",
    "print(np.random.random())\n",
    "print(np.random.random())"
   ]
  },
  {
   "cell_type": "markdown",
   "id": "c712d654",
   "metadata": {},
   "source": [
    "numpy使用Mersenne Twister PRNG启动伪随机函数。PRNG的期限为$2^{19937}-1$，可以在任何时候用624个32位无符号整数和一个表示该“熵”已用完的位置描述。"
   ]
  },
  {
   "cell_type": "code",
   "execution_count": 17,
   "id": "c4e1d3eb",
   "metadata": {},
   "outputs": [],
   "source": [
    "np.random.seed(0)\n",
    "rng_state = np.random.get_state()\n",
    "#print(rng_state)\n",
    "# --> ('MT19937', array([0, 1, 1812433255, 1900727105, 1208447044,\n",
    "#       2481403966, 4042607538,  337614300, ... 614 more numbers..., \n",
    "#       3048484911, 1796872496], dtype=uint32), 624, 0, 0.0)"
   ]
  },
  {
   "cell_type": "markdown",
   "id": "00b569af",
   "metadata": {},
   "source": [
    "每当需要一个随机数时，都会在后台自动更新此伪随机状态向量，从而“消耗”梅森扭曲状态向量中的2个uint32："
   ]
  },
  {
   "cell_type": "code",
   "execution_count": 18,
   "id": "5b4ff0b3",
   "metadata": {},
   "outputs": [],
   "source": [
    "_ = np.random.uniform()\n",
    "rng_state = np.random.get_state()\n",
    "#print(rng_state) \n",
    "# --> ('MT19937', array([2443250962, 1093594115, 1878467924,\n",
    "#       ..., 2648828502, 1678096082], dtype=uint32), 2, 0, 0.0)\n",
    "\n",
    "# Let's exhaust the entropy in this PRNG statevector\n",
    "for i in range(311):\n",
    "    _ = np.random.uniform()\n",
    "rng_state = np.random.get_state()\n",
    "#print(rng_state) \n",
    "# --> ('MT19937', array([2443250962, 1093594115, 1878467924,\n",
    "#       ..., 2648828502, 1678096082], dtype=uint32), 624, 0, 0.0)\n",
    "\n",
    "# Next call iterates the RNG state for a new batch of fake \"entropy\".\n",
    "_ = np.random.uniform()\n",
    "rng_state = np.random.get_state()\n",
    "# print(rng_state) \n",
    "# --> ('MT19937', array([1499117434, 2949980591, 2242547484, \n",
    "#      4162027047, 3277342478], dtype=uint32), 2, 0, 0.0)"
   ]
  },
  {
   "cell_type": "markdown",
   "id": "cd8008e6",
   "metadata": {},
   "source": [
    "神奇的PRNG状态的问题在于，很难推断出如何在不同的线程，进程和设备上使用和更新它，并且当最终用户隐藏了熵产生和消耗的细节时，很容易搞砸。\n",
    "\n",
    "还已知Mersenne Twister PRNG存在一些问题，它具有2.5Kb的状态大小，这导致初始化问题。它无法通过现代BigCrush测试，并且通常很慢。\n",
    "\n",
    "相反，JAX实现了显式PRNG，通过显式传递和迭代PRNG状态来处理熵的产生和消耗。JAX采用了现代化 Threefry counter-based PRNG。它是可分的，也就是说，它的设计使我们能够将PRNG状态分到新的PRNG中，以用于并行随机生成。\n",
    "\n",
    "随机状态由两个我们称为键的unsigned-int32描述："
   ]
  },
  {
   "cell_type": "code",
   "execution_count": 19,
   "id": "1afa32ed",
   "metadata": {},
   "outputs": [
    {
     "data": {
      "text/plain": [
       "DeviceArray([0, 0], dtype=uint32)"
      ]
     },
     "execution_count": 19,
     "metadata": {},
     "output_type": "execute_result"
    }
   ],
   "source": [
    "from jax import random\n",
    "key = random.PRNGKey(0)\n",
    "key"
   ]
  },
  {
   "cell_type": "markdown",
   "id": "1e2db9f5",
   "metadata": {},
   "source": [
    "JAX的随机函数从PRNG状态产生伪随机数，但不改变状态！\n",
    "\n",
    "重用同一状态将导致悲伤和单调，最终用户失去生命的混乱："
   ]
  },
  {
   "cell_type": "code",
   "execution_count": 20,
   "id": "48186448",
   "metadata": {},
   "outputs": [
    {
     "name": "stdout",
     "output_type": "stream",
     "text": [
      "[-0.20584235]\n",
      "[0 0]\n",
      "[-0.20584235]\n",
      "[0 0]\n"
     ]
    }
   ],
   "source": [
    "print(random.normal(key, shape=(1,)))\n",
    "print(key)\n",
    "# No no no!\n",
    "print(random.normal(key, shape=(1,)))\n",
    "print(key)"
   ]
  },
  {
   "cell_type": "markdown",
   "id": "045e6ad3",
   "metadata": {},
   "source": [
    "每当我们需要一个新的伪随机数时，可将PRNG拆分以获取可用的子项："
   ]
  },
  {
   "cell_type": "code",
   "execution_count": 21,
   "id": "52363587",
   "metadata": {},
   "outputs": [
    {
     "name": "stdout",
     "output_type": "stream",
     "text": [
      "old key [0 0]\n",
      "    \\---SPLIT --> new key    [4146024105  967050713]\n",
      "             \\--> new subkey [2718843009 1272950319] --> normal [-1.2515389]\n"
     ]
    }
   ],
   "source": [
    "print(\"old key\", key)\n",
    "key, subkey = random.split(key)\n",
    "normal_pseudorandom = random.normal(subkey, shape=(1,))\n",
    "print(\"    \\---SPLIT --> new key   \", key)\n",
    "print(\"             \\--> new subkey\", subkey, \"--> normal\", normal_pseudorandom)"
   ]
  },
  {
   "cell_type": "markdown",
   "id": "bb0970ec",
   "metadata": {},
   "source": [
    "每当需要新的随机数时，传播密钥并创建新的子密钥："
   ]
  },
  {
   "cell_type": "code",
   "execution_count": 22,
   "id": "8f5b3847",
   "metadata": {},
   "outputs": [
    {
     "name": "stdout",
     "output_type": "stream",
     "text": [
      "old key [4146024105  967050713]\n",
      "    \\---SPLIT --> new key    [2384771982 3928867769]\n",
      "             \\--> new subkey [1278412471 2182328957] --> normal [-0.58665067]\n"
     ]
    }
   ],
   "source": [
    "print(\"old key\", key)\n",
    "key, subkey = random.split(key)\n",
    "normal_pseudorandom = random.normal(subkey, shape=(1,))\n",
    "print(\"    \\---SPLIT --> new key   \", key)\n",
    "print(\"             \\--> new subkey\", subkey, \"--> normal\", normal_pseudorandom)"
   ]
  },
  {
   "cell_type": "markdown",
   "id": "f64984ab",
   "metadata": {},
   "source": [
    "一次可以生成多个子键："
   ]
  },
  {
   "cell_type": "code",
   "execution_count": 23,
   "id": "59eb45ad",
   "metadata": {},
   "outputs": [
    {
     "name": "stdout",
     "output_type": "stream",
     "text": [
      "[-0.37533444]\n",
      "[0.9864503]\n",
      "[0.1455319]\n"
     ]
    }
   ],
   "source": [
    "key, *subkeys = random.split(key, 4)\n",
    "for subkey in subkeys:\n",
    "    print(random.normal(subkey, shape=(1,)))"
   ]
  },
  {
   "cell_type": "markdown",
   "id": "ef54c4bc",
   "metadata": {},
   "source": [
    "### Control Flow\n",
    "\n",
    "#### ✔python control_flow + autodiff✔\n",
    "\n",
    "如果只想将grad应用于python函数，则可以正常使用常规python控制流构造，就像在Autograd（或Pytorch或TF Eager）中一样。"
   ]
  },
  {
   "cell_type": "code",
   "execution_count": 24,
   "id": "34500c73",
   "metadata": {},
   "outputs": [
    {
     "name": "stdout",
     "output_type": "stream",
     "text": [
      "12.0\n",
      "-4.0\n"
     ]
    }
   ],
   "source": [
    "def f(x):\n",
    "    if x < 3:\n",
    "        return 3. * x ** 2\n",
    "    else:\n",
    "        return -4 * x\n",
    "\n",
    "print(grad(f)(2.))  # ok!\n",
    "print(grad(f)(4.))  # ok!"
   ]
  },
  {
   "cell_type": "markdown",
   "id": "7c5a2b06",
   "metadata": {},
   "source": [
    "#### python控制流+ JIT\n",
    "\n",
    "控制流和jit一起使用更加复杂，并且默认情况下它具有更多约束。\n",
    "\n",
    "这样是可以的："
   ]
  },
  {
   "cell_type": "code",
   "execution_count": 25,
   "id": "f0c5a582",
   "metadata": {},
   "outputs": [
    {
     "name": "stdout",
     "output_type": "stream",
     "text": [
      "24\n"
     ]
    }
   ],
   "source": [
    "@jit\n",
    "def f(x):\n",
    "    for i in range(3):\n",
    "        x = 2 * x\n",
    "    return x\n",
    "\n",
    "print(f(3))"
   ]
  },
  {
   "cell_type": "markdown",
   "id": "d7394475",
   "metadata": {},
   "source": [
    "这样做也行："
   ]
  },
  {
   "cell_type": "code",
   "execution_count": 26,
   "id": "63c51ac1",
   "metadata": {},
   "outputs": [
    {
     "name": "stdout",
     "output_type": "stream",
     "text": [
      "6.0\n"
     ]
    }
   ],
   "source": [
    "@jit\n",
    "def g(x):\n",
    "    y = 0.\n",
    "    for i in range(x.shape[0]):\n",
    "        y = y + x[i]\n",
    "    return y\n",
    "\n",
    "print(g(jnp.array([1., 2., 3.])))"
   ]
  },
  {
   "cell_type": "markdown",
   "id": "bb2c2548",
   "metadata": {},
   "source": [
    "但这样做，至少在默认情况下是不行的："
   ]
  },
  {
   "cell_type": "code",
   "execution_count": 27,
   "id": "878c528a",
   "metadata": {},
   "outputs": [
    {
     "name": "stdout",
     "output_type": "stream",
     "text": [
      "Exception Abstract tracer value encountered where concrete value is expected: Traced<ShapedArray(bool[], weak_type=True)>with<DynamicJaxprTrace(level=0/1)>\n",
      "The problem arose with the `bool` function. \n",
      "While tracing the function f at <ipython-input-27-99e60ecaa4cc>:1, transformed by jit., this concrete value was not available in Python because it depends on the value of the arguments to f at <ipython-input-27-99e60ecaa4cc>:1, transformed by jit. at flattened positions [0], and the computation of these values is being staged out (that is, delayed rather than executed eagerly).\n",
      " (https://jax.readthedocs.io/en/latest/errors.html#jax.errors.ConcretizationTypeError)\n"
     ]
    }
   ],
   "source": [
    "@jit\n",
    "def f(x):\n",
    "    if x < 3:\n",
    "        return 3. * x ** 2\n",
    "    else:\n",
    "        return -4 * x\n",
    "\n",
    "# This will fail!\n",
    "try:\n",
    "    f(2)\n",
    "except Exception as e:\n",
    "    print(\"Exception {}\".format(e))"
   ]
  },
  {
   "cell_type": "markdown",
   "id": "d5c1ecf3",
   "metadata": {},
   "source": [
    "为什么这样！？\n",
    "\n",
    "当jit模式编译一个函数时，我们通常希望编译一个适用于许多不同参数值的函数版本，以便我们可以缓存和重用已编译的代码。这样，我们不必在每个函数求值时都重新编译。\n",
    "\n",
    "例如，如果我们对针对数组(jnp.array([1., 2., 3.], jnp.float32)的@jit函数求值，我们会希望编译可重复使用的代码来计算，以节省编译时间。\n",
    "\n",
    "为了获得对许多不同参数值有效的Python代码视图，JAX会在代表可能输入集的**抽象值 abstract value**上跟踪它。存在[多种不同的抽象级别](https://github.com/google/jax/blob/master/jax/abstract_arrays.py)，并且不同的转换使用不同的抽象级别。\n",
    "\n",
    "默认情况下，jit在ShapedArray抽象级别上跟踪代码，其中每个抽象值代表具有固定形状和dtype的所有数组值的集合。例如，如果我们使用抽象值ShapedArray((3,), jnp.float32)进行跟踪，则会获得该函数的视图，该函数可用于对应数组集合中的任何具体值。这意味着我们可以节省编译时间。\n",
    "\n",
    "但是这里有一个折衷：如果我们在未承诺特定具体值的ShapedArray((), jnp.float32)上跟踪Python函数，则当我们碰到类似 if x < 3 的行时，表达式 x < 3 的值将表示代表{True, False} 集（即python的set）的抽象ShapedArray((), jnp.bool_)。当Python尝试将其强制转换为具体的True或False时，我们就会收到错误消息：我们不知道采用哪个分支，也无法继续跟踪！折衷方案是，使用更高级别的抽象，我们可以获得更通用的Python代码视图（从而节省了重新编译的时间），但是我们需要对Python代码施加更多约束来完成跟踪。\n",
    "\n",
    "好消息是可以自己控制这种折衷。通过jit跟踪更精细的抽象值，可以放宽可追溯性约束。例如，使用的static_argnums参数给到jit，我们可以指定跟踪某些参数的具体值。仍然是上面的示例函数，修改为："
   ]
  },
  {
   "cell_type": "code",
   "execution_count": 28,
   "id": "9c93f4f2",
   "metadata": {},
   "outputs": [
    {
     "name": "stdout",
     "output_type": "stream",
     "text": [
      "12.0\n"
     ]
    }
   ],
   "source": [
    "def f(x):\n",
    "    if x < 3:\n",
    "        return 3. * x ** 2\n",
    "    else:\n",
    "        return -4 * x\n",
    "\n",
    "f = jit(f, static_argnums=(0,))\n",
    "\n",
    "print(f(2.))"
   ]
  },
  {
   "cell_type": "markdown",
   "id": "0086dd6b",
   "metadata": {},
   "source": [
    "这是另一个示例，这次涉及一个循环："
   ]
  },
  {
   "cell_type": "code",
   "execution_count": 29,
   "id": "83ba6a31",
   "metadata": {},
   "outputs": [
    {
     "data": {
      "text/plain": [
       "DeviceArray(5., dtype=float32)"
      ]
     },
     "execution_count": 29,
     "metadata": {},
     "output_type": "execute_result"
    }
   ],
   "source": [
    "def f(x, n):\n",
    "    y = 0.\n",
    "    for i in range(n):\n",
    "        y = y + x[i]\n",
    "    return y\n",
    "\n",
    "f = jit(f, static_argnums=(1,))\n",
    "\n",
    "f(jnp.array([2., 3., 4.]), 2)"
   ]
  },
  {
   "cell_type": "markdown",
   "id": "b8e1abd9",
   "metadata": {},
   "source": [
    "实际上，循环是静态展开的。JAX还可以跟踪更高的抽象级别，例如Unshaped，但是不是当前任何转换的默认值\n",
    "\n",
    "️⚠️函数具有参数值依赖的形状\n",
    "\n",
    "这些控制流问题还会以一种更微妙的方式出现：我们要jit的数值函数不能专门针对参数值内部数组的形状（可以对参数形状进行专门化处理）。举一个简单的例子，创建一个函数，其输出恰好取决于输入变量的length。"
   ]
  },
  {
   "cell_type": "code",
   "execution_count": 30,
   "id": "9d46345f",
   "metadata": {},
   "outputs": [
    {
     "name": "stdout",
     "output_type": "stream",
     "text": [
      "[4. 4. 4. 4. 4.]\n",
      "Exception Shapes must be 1D sequences of concrete values of integer type, got (Traced<ShapedArray(int32[], weak_type=True)>with<DynamicJaxprTrace(level=0/1)>,).\n",
      "If using `jit`, try using `static_argnums` or applying `jit` to smaller subfunctions.\n",
      "[4. 4. 4. 4. 4. 4. 4. 4. 4. 4.]\n",
      "[4. 4. 4. 4. 4.]\n"
     ]
    }
   ],
   "source": [
    "def example_fun(length, val):\n",
    "    return jnp.ones((length,)) * val\n",
    "# un-jit'd works fine\n",
    "print(example_fun(5, 4))\n",
    "\n",
    "bad_example_jit = jit(example_fun)\n",
    "# this will fail:\n",
    "try:\n",
    "    print(bad_example_jit(10, 4))\n",
    "except Exception as e:\n",
    "    print(\"Exception {}\".format(e))\n",
    "# static_argnums tells JAX to recompile on changes at these argument positions:\n",
    "good_example_jit = jit(example_fun, static_argnums=(0,))\n",
    "# first compile\n",
    "print(good_example_jit(10, 4))\n",
    "# recompiles\n",
    "print(good_example_jit(5, 4))"
   ]
  },
  {
   "cell_type": "markdown",
   "id": "b2833ced",
   "metadata": {},
   "source": [
    "如果length在我们的示例中很少更改，static_argnums可以很方便处理，但是如果更改很多，那将是灾难性的！\n",
    "\n",
    "最后，如果函数具有全局side-effects，那么JAX的跟踪器可能会导致发生奇怪的事情。一个常见的陷阱是尝试在jit函数内部打印数组："
   ]
  },
  {
   "cell_type": "code",
   "execution_count": 31,
   "id": "74101a6f",
   "metadata": {},
   "outputs": [
    {
     "name": "stdout",
     "output_type": "stream",
     "text": [
      "Traced<ShapedArray(int32[], weak_type=True)>with<DynamicJaxprTrace(level=0/1)>\n",
      "Traced<ShapedArray(int32[], weak_type=True)>with<DynamicJaxprTrace(level=0/1)>\n"
     ]
    },
    {
     "data": {
      "text/plain": [
       "DeviceArray(4, dtype=int32)"
      ]
     },
     "execution_count": 31,
     "metadata": {},
     "output_type": "execute_result"
    }
   ],
   "source": [
    "@jit\n",
    "def f(x):\n",
    "    print(x)\n",
    "    y = 2 * x\n",
    "    print(y)\n",
    "    return y\n",
    "f(2)"
   ]
  },
  {
   "cell_type": "markdown",
   "id": "2cf4f916",
   "metadata": {},
   "source": [
    "### Structured control flow primitives\n",
    "\n",
    "JAX中有更多控制流选项。假设要避免重新编译，但仍要使用可追溯的控制流，这样可以避免展开大循环。可以使用以下4种结构化的控制流原语：\n",
    "\n",
    "- lax.cond 可微的\n",
    "- lax.while_loop fwd-mode可微\n",
    "- lax.fori_loop fwd-mode可微\n",
    "- lax.scan 可微的\n",
    "\n",
    "条件语句的python等效项：\n",
    "\n",
    "```Python\n",
    "def cond(pred, true_fun, false_fun, operand):\n",
    "    if pred:\n",
    "        return true_fun(operand)\n",
    "    else:\n",
    "        return false_fun(operand)\n",
    "```"
   ]
  },
  {
   "cell_type": "code",
   "execution_count": 32,
   "id": "13df3b26",
   "metadata": {},
   "outputs": [
    {
     "data": {
      "text/plain": [
       "DeviceArray([-1.], dtype=float32)"
      ]
     },
     "execution_count": 32,
     "metadata": {},
     "output_type": "execute_result"
    }
   ],
   "source": [
    "from jax import lax\n",
    "\n",
    "operand = jnp.array([0.])\n",
    "lax.cond(True, lambda x: x+1, lambda x: x-1, operand)\n",
    "# --> array([1.], dtype=float32)\n",
    "lax.cond(False, lambda x: x+1, lambda x: x-1, operand)\n",
    "# --> array([-1.], dtype=float32)"
   ]
  },
  {
   "cell_type": "markdown",
   "id": "bf066dd7",
   "metadata": {},
   "source": [
    "while_loop的python等效项：\n",
    "\n",
    "```Python\n",
    "def while_loop(cond_fun, body_fun, init_val):\n",
    "    val = init_val\n",
    "    while cond_fun(val):\n",
    "        val = body_fun(val)\n",
    "    return val\n",
    "```"
   ]
  },
  {
   "cell_type": "code",
   "execution_count": 33,
   "id": "c2f10f9d",
   "metadata": {},
   "outputs": [
    {
     "data": {
      "text/plain": [
       "DeviceArray(10, dtype=int32)"
      ]
     },
     "execution_count": 33,
     "metadata": {},
     "output_type": "execute_result"
    }
   ],
   "source": [
    "init_val = 0\n",
    "cond_fun = lambda x: x<10\n",
    "body_fun = lambda x: x+1\n",
    "lax.while_loop(cond_fun, body_fun, init_val)\n",
    "# --> array(10, dtype=int32)"
   ]
  },
  {
   "cell_type": "markdown",
   "id": "ce186bd5",
   "metadata": {},
   "source": [
    "fori_loop的python等效项：\n",
    "\n",
    "```Python\n",
    "def fori_loop(start, stop, body_fun, init_val):\n",
    "    val = init_val\n",
    "    for i in range(start, stop):\n",
    "        val = body_fun(i, val)\n",
    "    return val\n",
    "```"
   ]
  },
  {
   "cell_type": "code",
   "execution_count": 34,
   "id": "fad1925b",
   "metadata": {},
   "outputs": [
    {
     "data": {
      "text/plain": [
       "DeviceArray(45, dtype=int32)"
      ]
     },
     "execution_count": 34,
     "metadata": {},
     "output_type": "execute_result"
    }
   ],
   "source": [
    "init_val = 0\n",
    "start = 0\n",
    "stop = 10\n",
    "body_fun = lambda i,x: x+i\n",
    "lax.fori_loop(start, stop, body_fun, init_val)\n",
    "# --> array(45, dtype=int32)"
   ]
  },
  {
   "cell_type": "markdown",
   "id": "35df2778",
   "metadata": {},
   "source": [
    "小结下：\n",
    "\n",
    "|construct|jit|grad|\n",
    "|-|-|-|\n",
    "|if|❌|✔|\n",
    "|for|✔∗|✔|\n",
    "|while|✔∗|✔|\n",
    "|lax.cond|✔|✔|\n",
    "|lax.while_loop|✔|fwd|\n",
    "|lax.fori_loop|✔|fwd|\n",
    "|lax.scan|✔|✔|"
   ]
  },
  {
   "cell_type": "markdown",
   "id": "03106822",
   "metadata": {},
   "source": [
    "### NaNs\n",
    "\n",
    "调试NaN:如果要跟踪函数或梯度中NaN的发生位置，可以通过以下方法打开NaN检查器：\n",
    "\n",
    "- 设置JAX_DEBUG_NANS=True环境变量；\n",
    "- 添加from jax.config import config和config.update(\"jax_debug_nans\", True)并靠近主文件的顶部；\n",
    "- 加入from jax.config import config和config.parse_flags_with_absl()到你的主文件，然后使用命令行标志，比如--jax_debug_nans=True，设置选项;\n",
    "\n",
    "这将导致计算在生成NaN时立即出错。启用此选项会为XLA生成的每个浮点类型值添加一个Nan校验。这意味着将值拉回主机，并针对不在@jit之下的每个基本操作，将其作为ndarray进行检查。对于在@jit下的代码，将检查每个@jit函数的输出，如果存在nan，它将以非优化的逐操作模式重新运行该函数，从而有效地一次删除@jit的一个级别。\n",
    "\n",
    "可能会出现一些棘手的情况，例如仅在一个@jit而不在非优化模式下生成的nan 。在这种情况下，您会看到一条警告消息，但您的代码将继续执行。\n",
    "\n",
    "如果在梯度求值的向后传递中生成nans，则在堆栈跟踪中向上引发几帧异常时，将使用向后传递函数，该函数本质上是一个简单的jaxpr解释器，用于遍历原始操作的序列。"
   ]
  },
  {
   "cell_type": "code",
   "execution_count": 35,
   "id": "f1301a8a",
   "metadata": {},
   "outputs": [
    {
     "data": {
      "text/plain": [
       "DeviceArray(nan, dtype=float32)"
      ]
     },
     "execution_count": 35,
     "metadata": {},
     "output_type": "execute_result"
    }
   ],
   "source": [
    "import jax.numpy as jnp\n",
    "jnp.divide(0., 0.)"
   ]
  },
  {
   "cell_type": "markdown",
   "id": "2639e543",
   "metadata": {},
   "source": [
    "生成的nan被捕捉到了。通过运行%debug，我们可以获取事后调试器。这也适用于@jit下的函数，如下所示。"
   ]
  },
  {
   "cell_type": "code",
   "execution_count": 36,
   "id": "a60716e3",
   "metadata": {},
   "outputs": [
    {
     "data": {
      "text/plain": [
       "DeviceArray([-34.,  nan], dtype=float32)"
      ]
     },
     "execution_count": 36,
     "metadata": {},
     "output_type": "execute_result"
    }
   ],
   "source": [
    "from jax import jit\n",
    "\n",
    "@jit\n",
    "def f(x, y):\n",
    "    a = x * y\n",
    "    b = (x + y) / (x - y)\n",
    "    c = a + 2\n",
    "    return a + b * c\n",
    "\n",
    "x = jnp.array([2., 0.])\n",
    "y = jnp.array([3., 0.])\n",
    "f(x, y)"
   ]
  },
  {
   "cell_type": "markdown",
   "id": "0f58ef31",
   "metadata": {},
   "source": [
    "当此代码在@jit函数的输出中看到nan时，它将调用未优化的代码，因此我们仍然可以获得清晰的堆栈跟踪。然后，我们可以运行验尸调试器%debug来检查所有值以找出错误。\n",
    "\n",
    "⚠️如果不进行调试，则不应该启用NaN检查器，因为它可能会引入很多设备主机往返和性能下降！\n",
    "\n",
    "最后注意双精度（64位）。目前，JAX默认情况下会强制使用单精度数字，以减轻Numpy API积极将操作数提升为double的趋势。这是许多机器学习应用程序所期望的行为！"
   ]
  },
  {
   "cell_type": "code",
   "execution_count": 37,
   "id": "6bea1d6e",
   "metadata": {},
   "outputs": [
    {
     "data": {
      "text/plain": [
       "dtype('float32')"
      ]
     },
     "execution_count": 37,
     "metadata": {},
     "output_type": "execute_result"
    }
   ],
   "source": [
    "x = random.uniform(random.PRNGKey(0), (1000,), dtype=jnp.float64)\n",
    "x.dtype"
   ]
  }
 ],
 "metadata": {
  "kernelspec": {
   "display_name": "Python 3",
   "language": "python",
   "name": "python3"
  },
  "language_info": {
   "codemirror_mode": {
    "name": "ipython",
    "version": 3
   },
   "file_extension": ".py",
   "mimetype": "text/x-python",
   "name": "python",
   "nbconvert_exporter": "python",
   "pygments_lexer": "ipython3",
   "version": "3.9.4"
  }
 },
 "nbformat": 4,
 "nbformat_minor": 5
}
