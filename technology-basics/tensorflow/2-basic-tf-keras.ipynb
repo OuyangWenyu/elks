{
 "cells": [
  {
   "cell_type": "markdown",
   "metadata": {
    "pycharm": {
     "name": "#%% md\n"
    }
   },
   "source": [
    "# TF2.0下Keras快速入门\n",
    "\n",
    "该部分主要参考TensorFlow 2.0官方文档的[Keras部分](https://www.tensorflow.org/guide/keras)。\n",
    "\n",
    "**注意：需要在tensorflow的虚拟环境下单独执行！**\n",
    "\n",
    "## tf.keras\n",
    "\n",
    "tf.keras是Keras API specification的TensorFlow实现，它是一个构建和训练深度学习模型的high-level API。其安装可参考[环境配置环节](https://github.com/OuyangWenyu/hydrus/blob/master/1-basic-envir/win10-tensorflow2.md)。\n",
    "\n",
    "使用以下代码可以导入程序包。"
   ]
  },
  {
   "cell_type": "code",
   "execution_count": 2,
   "metadata": {
    "pycharm": {
     "is_executing": false
    }
   },
   "outputs": [],
   "source": [
    "from __future__ import absolute_import, division, print_function, unicode_literals\n",
    "\n",
    "import tensorflow as tf\n",
    "\n",
    "from tensorflow import keras"
   ]
  },
  {
   "cell_type": "markdown",
   "metadata": {},
   "source": [
    "tf.keras可以兼容Keras的代码，但是需要注意：\n",
    "\n",
    "- 最新TensorFlow版本的tf.keras版本可能与PyPI的最新keras版本不同，也就是说如果代码是在最新版的Keras下写的，有可能在tf.keras下不能运行成功；\n",
    "- 当保存模型的权重时，tf.keras默认是checkpoint格式，需要手动设置save_format='h5'参数来存储模型为HDF5格式。\n",
    "\n",
    "## 模型构建\n",
    "\n",
    "Keras中使用Sequential可以迅速地构建模型，类似的，这里可以使用tf.keras.Sequential，构建过程很简单，包括加载数据，定义模型解耦股，选定优化算法和损失函数，然后运行fit训练即可，最后调用evaluate函数评价。"
   ]
  },
  {
   "cell_type": "code",
   "execution_count": 3,
   "metadata": {
    "pycharm": {
     "is_executing": false
    }
   },
   "outputs": [
    {
     "name": "stdout",
     "output_type": "stream",
     "text": [
      "Downloading data from https://storage.googleapis.com/tensorflow/tf-keras-datasets/mnist.npz\n",
      "11493376/11490434 [==============================] - 2s 0us/step\n",
      "Train on 60000 samples\n",
      "Epoch 1/5\n",
      "60000/60000 [==============================] - 8s 131us/sample - loss: 0.2946 - accuracy: 0.9145\n",
      "Epoch 2/5\n",
      "60000/60000 [==============================] - 7s 112us/sample - loss: 0.1417 - accuracy: 0.9585\n",
      "Epoch 3/5\n",
      "60000/60000 [==============================] - 7s 109us/sample - loss: 0.1065 - accuracy: 0.9678\n",
      "Epoch 4/5\n",
      "60000/60000 [==============================] - 6s 104us/sample - loss: 0.0869 - accuracy: 0.9733\n",
      "Epoch 5/5\n",
      "60000/60000 [==============================] - 6s 100us/sample - loss: 0.0766 - accuracy: 0.9765\n",
      "10000/1 - 1s - loss: 0.0371 - accuracy: 0.9789\n"
     ]
    },
    {
     "data": {
      "text/plain": [
       "[0.07193386412984691, 0.9789]"
      ]
     },
     "execution_count": 3,
     "metadata": {},
     "output_type": "execute_result"
    }
   ],
   "source": [
    "mnist = tf.keras.datasets.mnist\n",
    "\n",
    "(x_train, y_train), (x_test, y_test) = mnist.load_data()\n",
    "x_train, x_test = x_train / 255.0, x_test / 255.0\n",
    "\n",
    "model = tf.keras.models.Sequential([\n",
    "  tf.keras.layers.Flatten(input_shape=(28, 28)), \n",
    "  tf.keras.layers.Dense(128, activation='relu'), # Dense是全连接\n",
    "  tf.keras.layers.Dropout(0.2),\n",
    "  tf.keras.layers.Dense(10, activation='softmax')\n",
    "])\n",
    "\n",
    "model.compile(optimizer='adam',\n",
    "              loss='sparse_categorical_crossentropy',\n",
    "              metrics=['accuracy'])\n",
    "\n",
    "model.fit(x_train, y_train, epochs=5)\n",
    "\n",
    "model.evaluate(x_test,  y_test, verbose=2)"
   ]
  },
  {
   "cell_type": "markdown",
   "metadata": {},
   "source": [
    "## 配置layers\n",
    "\n",
    "一些常用的构建参数：\n",
    "\n",
    "- activation: 为每层设置激活函数。参数由一个built-in函数或一个可调用的object的name指定。默认是不使用activation的；\n",
    "- kernel_initializer 和 bias_initializer: 初始化模块构建layer的weights (kernel 和 bias)。参数也是一个name或一个callable object。默认是\"Glorot uniform\"初始化；\n",
    "- kernel_regularizer 和 bias_regularizer: 正则化模块对layer's weights (kernel and bias)使用L1 or L2等regularization. 默认没有正则化。"
   ]
  }
 ],
 "metadata": {
  "kernelspec": {
   "display_name": "Python 3",
   "language": "python",
   "name": "python3"
  },
  "language_info": {
   "codemirror_mode": {
    "name": "ipython",
    "version": 3
   },
   "file_extension": ".py",
   "mimetype": "text/x-python",
   "name": "python",
   "nbconvert_exporter": "python",
   "pygments_lexer": "ipython3",
   "version": "3.7.6"
  },
  "pycharm": {
   "stem_cell": {
    "cell_type": "raw",
    "metadata": {
     "collapsed": false
    },
    "source": []
   }
  }
 },
 "nbformat": 4,
 "nbformat_minor": 4
}
